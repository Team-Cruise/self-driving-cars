{
 "metadata": {
  "language_info": {
   "codemirror_mode": {
    "name": "ipython",
    "version": 3
   },
   "file_extension": ".py",
   "mimetype": "text/x-python",
   "name": "python",
   "nbconvert_exporter": "python",
   "pygments_lexer": "ipython3",
   "version": "3.8.5"
  },
  "orig_nbformat": 4,
  "kernelspec": {
   "name": "python3",
   "display_name": "Python 3.8.5 64-bit ('my-project-env': virtualenvwrapper)"
  },
  "interpreter": {
   "hash": "737e9587d30d88c29f1321911dcbdbc8762e4df40f7563cdfd1b93bad311ab30"
  }
 },
 "nbformat": 4,
 "nbformat_minor": 2,
 "cells": [
  {
   "cell_type": "code",
   "execution_count": 1,
   "metadata": {},
   "outputs": [],
   "source": [
    "import cv2\n",
    "import matplotlib.pyplot as plt\n",
    "import numpy as np"
   ]
  },
  {
   "cell_type": "code",
   "execution_count": 27,
   "metadata": {},
   "outputs": [],
   "source": [
    "def resize(img):\n",
    "    img= cv2.resize(img, (960,540), interpolation = cv2.INTER_AREA)\n",
    "    gray_img = cv2.cvtColor(img,cv2.COLOR_RGB2GRAY)\n",
    "    return gray_img"
   ]
  },
  {
   "cell_type": "code",
   "execution_count": 34,
   "metadata": {},
   "outputs": [],
   "source": [
    "def cropping(gray_img):\n",
    "    pts = np.array([[\n",
    "        [100, 550],\n",
    "        [930, 550],\n",
    "        [510, 315],\n",
    "        [440, 315],\n",
    "    ]],np.int32)\n",
    "\n",
    "    pts = pts.reshape((-1, 1, 2))\n",
    "    \n",
    "    isClosed = True\n",
    "    \n",
    "    # Blue color in BGR\n",
    "    color = (255, 0, 0)\n",
    "    \n",
    "    # Line thickness of 2 px\n",
    "    thickness = 2\n",
    "    \n",
    "    # Using cv2.polylines() method\n",
    "    # Draw a Blue polygon with \n",
    "    # thickness of 1 px\n",
    "    cropped = cv2.polylines(gray_img, [pts], \n",
    "                        isClosed, color, thickness)\n",
    "\n",
    "    rect = cv2.boundingRect(pts)\n",
    "    x,y,w,h = rect\n",
    "    cropped = cropped[y:y+h, x:x+w].copy()\n",
    "\n",
    "    # make mask\n",
    "    pts = pts - pts.min(axis=0)\n",
    "\n",
    "    mask = np.zeros(cropped.shape[:2], np.uint8)\n",
    "    cv2.drawContours(mask, [pts], -1, (255, 255, 255), -1, cv2.LINE_AA)\n",
    "\n",
    "    ## do bit-op\n",
    "    dst = cv2.bitwise_and(cropped, cropped, mask=mask)\n",
    "    return dst"
   ]
  },
  {
   "cell_type": "code",
   "execution_count": 38,
   "metadata": {},
   "outputs": [],
   "source": [
    "def threshhold(dst):\n",
    "    #Blur\n",
    "\n",
    "    blur = cv2.blur(dst,(5,5),1)\n",
    "    #Threshold\n",
    "\n",
    "    _,thresh = cv2.threshold(blur,190,255,cv2.THRESH_BINARY)\n",
    "\n",
    "    #Opening \n",
    "\n",
    "    kernel = cv2.getStructuringElement(cv2.MORPH_RECT,(10,10))\n",
    "    opening = cv2.morphologyEx(thresh,cv2.MORPH_CLOSE,kernel)\n",
    "\n",
    "    #Erosion\n",
    "\n",
    "    kernel = np.ones([2,12])\n",
    "    erosion = cv2.erode(opening,kernel)\n",
    "    return erosion\n"
   ]
  },
  {
   "cell_type": "code",
   "execution_count": 40,
   "metadata": {},
   "outputs": [],
   "source": [
    "def drawing_lines(img,erosion):\n",
    "    lines = cv2.HoughLines(erosion, 1, np.pi / 180, 50)\n",
    "    if type(lines) == np.ndarray :\n",
    "            for line in lines:\n",
    "                for r, theta in line:\n",
    "                    \n",
    "                    # Stores the value of cos(theta) in a\n",
    "                    a = np.cos(theta)\n",
    "\n",
    "                    # Stores the value of sin(theta) in b\n",
    "                    b = np.sin(theta)\n",
    "\n",
    "                    # x0 stores the value rcos(theta)\n",
    "                    x0 = a * r\n",
    "\n",
    "                    # y0 stores the value rsin(theta)\n",
    "                    y0 = b * r\n",
    "\n",
    "                    # x1 stores the rounded off value of (rcos(theta)-1000sin(theta))\n",
    "                    x1 = int(x0 + 1000 * (-b))\n",
    "\n",
    "                    # y1 stores the rounded off value of (rsin(theta)+1000cos(theta))\n",
    "                    y1 = int(y0 + 1000 * (a))\n",
    "\n",
    "                    # x2 stores the rounded off value of (rcos(theta)+1000sin(theta))\n",
    "                    x2 = int(x0 - 1000 * (-b))\n",
    "\n",
    "                    # y2 stores the rounded off value of (rsin(theta)-1000cos(theta))\n",
    "                    y2 = int(y0 - 1000 * (a))\n",
    "\n",
    "                    # cv2.line draws a line in img from the point(x1,y1) to (x2,y2).\n",
    "                    # (0,0,255) denotes the colour of the line to be\n",
    "                    # drawn. In this case, it is red.\n",
    "\n",
    "                    \n",
    "\n",
    "\n",
    "                    if abs(a)>0.51 and 0.52>abs(a) or a>0.1:\n",
    "                        cv2.line(img[y:y+h, x:x+w], (x1, y1), (x2, y2), (0, 255, 0), 2)\n",
    "                    elif abs(a)<0.1:\n",
    "                        pass\n",
    "                    else : \n",
    "                        pass\n",
    "            else:\n",
    "                pass\n",
    "    return img\n"
   ]
  },
  {
   "cell_type": "code",
   "execution_count": 42,
   "metadata": {},
   "outputs": [
    {
     "output_type": "execute_result",
     "data": {
      "text/plain": [
       "-1"
      ]
     },
     "metadata": {},
     "execution_count": 42
    }
   ],
   "source": [
    "capture = cv2.VideoCapture(\"Test/test_videos/solidWhiteRight.mp4\")\n",
    "window_name=\"challenge\"\n",
    "if not capture.isOpened():\n",
    "    exit(0)\n",
    "while True:\n",
    "    ret,img = capture.read()\n",
    "    if img is None:\n",
    "        break\n",
    "\n",
    "    gray_img =resize(img)\n",
    "    \"\"\" Cropping \"\"\"\n",
    "    dst = cropping(gray_img)\n",
    "\n",
    "    \"\"\" blur, threshold operations\"\"\"\n",
    "\n",
    "    erosion=threshhold(dst)\n",
    "\n",
    "    \"\"\"Finding and drawing lines\"\"\"\n",
    "\n",
    "    img = drawing_lines(img,erosion)\n",
    "    \n",
    "    \n",
    "    \n",
    "    \n",
    "    \n",
    "    cv2.imshow(window_name,img)\n",
    "\n",
    "\n",
    "    k = cv2.waitKey(30)\n",
    "    if k == ord(\"q\"):\n",
    "        break\n",
    "capture.release()\n",
    "cv2.destroyAllWindows()\n",
    "cv2.waitKey(1)\n",
    "\n"
   ]
  },
  {
   "cell_type": "code",
   "execution_count": null,
   "metadata": {},
   "outputs": [],
   "source": []
  }
 ]
}