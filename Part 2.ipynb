{
 "cells": [
  {
   "cell_type": "markdown",
   "id": "cb8175a0",
   "metadata": {},
   "source": [
    "**Advaned Lane Finding Pipeline Outline**\n",
    "\n",
    "- Compute the camera calibration matrix and distortion coefficients given a set of chessboard images.\n",
    "- Apply a distortion correction to raw images.\n",
    "- Use color transforms, gradients, etc., to create a thresholded binary image.\n",
    "- Apply a perspective transform to rectify binary image (\"birds-eye view\").\n",
    "\n",
    "- Detect lane pixels and fit to find the lane boundary.\n",
    "- Determine the curvature of the lane and vehicle position with respect to center.\n",
    "\n",
    "- Warp the detected lane boundaries back onto the original image.\n",
    "- Output visual display of the lane boundaries and numerical estimation of lane curvature and vehicle position."
   ]
  },
  {
   "cell_type": "code",
   "execution_count": null,
   "id": "3df49660",
   "metadata": {},
   "outputs": [],
   "source": [
    "import cv2\n",
    "import glob, os\n",
    "import pickle\n",
    "import numpy as np\n",
    "import matplotlib.pyplot as plt\n",
    "import matplotlib.image as mpimg\n",
    "\n",
    "%matplotlib inline"
   ]
  },
  {
   "cell_type": "code",
   "execution_count": null,
   "id": "09615a0b",
   "metadata": {},
   "outputs": [],
   "source": []
  },
  {
   "cell_type": "code",
   "execution_count": 7,
   "id": "aef8c066",
   "metadata": {
    "ExecuteTime": {
     "end_time": "2021-06-18T13:31:34.292228Z",
     "start_time": "2021-06-18T13:31:34.277239Z"
    }
   },
   "outputs": [],
   "source": [
    "\n",
    "def plot_images(img1,img2,title1=None,title2=None,save_plot=False):\n",
    "    f, (ax1, ax2) = plt.subplots(1, 2, figsize=(20,10))\n",
    "    ax1.imshow(img1,cmap='gray')\n",
    "    ax1.set_title(title1, fontsize=30)\n",
    "    ax2.imshow(img2,cmap='gray')\n",
    "    ax2.set_title(title2, fontsize=30)\n",
    "    \n",
    "    if save_plot:\n",
    "        plot_fname = title1 + title2;\n",
    "        f.savefig(plot_fname)\n",
    "\n",
    "def show_perspective(img,warped_img,src,dst):\n",
    "    # Plotting combined threshold images\n",
    "    f, (ax1, ax2) = plt.subplots(1, 2, figsize=(24,9))\n",
    "    f.tight_layout()\n",
    "\n",
    "    # Draw polygon to highlight the four source points on the image\n",
    "    ax1.set_title('Thresholded Image with source points drawn',fontsize=30)\n",
    "    ax1.plot(Polygon(src).get_xy()[:, 0], Polygon(src).get_xy()[:, 1], color='red',linewidth=4)\n",
    "    ax1.imshow(img, cmap='gray') # display in grayscale\n",
    "        \n",
    "    ax2.set_title('Warped result with dest. points drawn',fontsize=30)\n",
    "    # Draw polygon to highlight the four destination points on the image\n",
    "    ax2.plot(Polygon(dst).get_xy()[:, 0], Polygon(dst).get_xy()[:, 1], color='red',linewidth=4)\n",
    "    ax2.imshow(warped_img, cmap='gray')\n",
    "    \n",
    "    # Draw two vertical lines on the image\n",
    "    ax2.axvline(x=270,color='red',linewidth=4)\n",
    "    ax2.axvline(x=1040,color='red',linewidth=4)\n",
    "    \n",
    "    plt.subplots_adjust(left=0., right=1, top=0.9, bottom=0.)"
   ]
  },
  {
   "cell_type": "code",
   "execution_count": null,
   "id": "c1a38418",
   "metadata": {},
   "outputs": [],
   "source": []
  },
  {
   "cell_type": "code",
   "execution_count": 8,
   "id": "eb49836f",
   "metadata": {
    "ExecuteTime": {
     "end_time": "2021-06-18T13:33:16.145881Z",
     "start_time": "2021-06-18T13:33:16.117898Z"
    }
   },
   "outputs": [],
   "source": [
    "def save_camera_calibration(ret,mtx,dist,rvecs,tvecs):\n",
    "  \n",
    "    # Save the camera calibration result for later use (we won't worry about rvecs / tvecs)\n",
    "    dist_pickle = {}\n",
    "    dist_pickle[\"ret\"] = ret\n",
    "    dist_pickle[\"mtx\"] = mtx\n",
    "    dist_pickle[\"dist\"] = dist\n",
    "    dist_pickle[\"rvecs\"] = rvecs\n",
    "    dist_pickle[\"tvec\"] = tvecs\n",
    "    \n",
    "    # Exclude the object and image points to save to the pickle file\n",
    "    dist_pickle[\"objpoints\"] = objpoints\n",
    "    dist_pickle[\"imgpoints\"] = imgpoints\n",
    "            \n",
    "    # Save the camera calibration pickle file to the \"camera_cal\" folder\n",
    "    pickle.dump(dist_pickle, open(\"camera_cal/camera_cal.p\", \"wb\" ))\n",
    "\n",
    "def load_camera_calibration(camera_calibration='camera_cal/camera_cal.p'):\n",
    "    if (os.path.isfile(camera_calibration)):\n",
    "        dist_pickle = pickle.load( open(camera_calibration, \"rb\" ) )\n",
    "        ret = dist_pickle[\"ret\"]\n",
    "        mtx  = dist_pickle[\"mtx\"]\n",
    "        dist = dist_pickle[\"dist\"]\n",
    "        rvecs = dist_pickle[\"rvecs\"]\n",
    "        tvecs = dist_pickle[\"tvec\"]\n",
    "    else:\n",
    "        print('ERROR: Unable to open the camera calibration pickle file')\n",
    "        return\n",
    "    return ret, mtx, dist, rvecs, tvecs\n",
    "\n",
    "def map_obj_img_points(img_name, objpoints, imgpoints, visible=True, h_corners=9, v_corners=6):\n",
    "    # Prepare object points, like (0,0,0), (1,0,0), (2,0,0) ....,(6,5,0)\n",
    "    objp = np.zeros((9*6,3), np.float32)\n",
    "    objp[:,:2] = np.mgrid[0:9,0:6].T.reshape(-1,2)\n",
    "\n",
    "    img = cv2.imread(img_name)\n",
    "    gray = cv2.cvtColor(img,cv2.COLOR_BGR2GRAY)\n",
    "\n",
    "    # Find the chessboard corners\n",
    "    ret, corners = cv2.findChessboardCorners(gray, (h_corners,v_corners),None)\n",
    "\n",
    "    # If found, add object points, image points\n",
    "    if ret == True:\n",
    "        objpoints.append(objp)\n",
    "        imgpoints.append(corners)\n",
    "        \n",
    "        if (visible==True):\n",
    "            # Draw and display the corners\n",
    "            img = cv2.drawChessboardCorners(img, (h_corners,v_corners), corners, ret)\n",
    "            cv2.imshow('img',img)\n",
    "            cv2.waitKey(500)\n",
    "    else:\n",
    "        # Notify the user that some images are not valid for camera calibration\n",
    "        print(\"Unable to detect corners for image : \" + img_name )\n",
    "    return objpoints, imgpoints\n",
    "    \n",
    "def compute_camera_calibration(calibration_images):\n",
    "    # Arrays to store object points and image points from all the images.\n",
    "    objpoints = [] # 3d points in real world space\n",
    "    imgpoints = [] # 2d points in image plane\n",
    "    \n",
    "    # Make a list of calibration images\n",
    "    images = glob.glob(calibration_images)\n",
    "    \n",
    "    # Step through the list and search for chessboard corners\n",
    "    for fname in images:\n",
    "        img = cv2.imread(fname)\n",
    "        objpoints, imgpoints = map_obj_img_points(fname,objpoints,imgpoints,visible=False)\n",
    "\n",
    "    img_size = (img.shape[1], img.shape[0])\n",
    "    \n",
    "    # Do camera calibration given object points and image points\n",
    "    ret, mtx, dist, rvecs, tvecs = cv2.calibrateCamera(objpoints, imgpoints, img_size,None,None)\n",
    "    return ret, mtx, dist, rvecs, tvecs"
   ]
  },
  {
   "cell_type": "code",
   "execution_count": null,
   "id": "4df52f4e",
   "metadata": {},
   "outputs": [],
   "source": []
  },
  {
   "cell_type": "code",
   "execution_count": 9,
   "id": "5c730df3",
   "metadata": {
    "ExecuteTime": {
     "end_time": "2021-06-18T13:34:23.048336Z",
     "start_time": "2021-06-18T13:34:23.021360Z"
    }
   },
   "outputs": [
    {
     "name": "stdout",
     "output_type": "stream",
     "text": [
      "ERROR: Unable to open the camera calibration pickle file\n"
     ]
    },
    {
     "ename": "TypeError",
     "evalue": "cannot unpack non-iterable NoneType object",
     "output_type": "error",
     "traceback": [
      "\u001b[1;31m---------------------------------------------------------------------------\u001b[0m",
      "\u001b[1;31mTypeError\u001b[0m                                 Traceback (most recent call last)",
      "\u001b[1;32m<ipython-input-9-a444c33eb8fa>\u001b[0m in \u001b[0;36m<module>\u001b[1;34m\u001b[0m\n\u001b[0;32m     11\u001b[0m     \u001b[1;32mreturn\u001b[0m \u001b[0mundist_img\u001b[0m\u001b[1;33m\u001b[0m\u001b[1;33m\u001b[0m\u001b[0m\n\u001b[0;32m     12\u001b[0m \u001b[1;33m\u001b[0m\u001b[0m\n\u001b[1;32m---> 13\u001b[1;33m \u001b[0mret\u001b[0m\u001b[1;33m,\u001b[0m \u001b[0mmtx\u001b[0m\u001b[1;33m,\u001b[0m \u001b[0mdist\u001b[0m\u001b[1;33m,\u001b[0m \u001b[0mrvecs\u001b[0m\u001b[1;33m,\u001b[0m \u001b[0mtvecs\u001b[0m \u001b[1;33m=\u001b[0m \u001b[0mload_camera_calibration\u001b[0m\u001b[1;33m(\u001b[0m\u001b[1;33m)\u001b[0m\u001b[1;33m\u001b[0m\u001b[1;33m\u001b[0m\u001b[0m\n\u001b[0m\u001b[0;32m     14\u001b[0m \u001b[0mimages\u001b[0m \u001b[1;33m=\u001b[0m \u001b[0mglob\u001b[0m\u001b[1;33m.\u001b[0m\u001b[0mglob\u001b[0m\u001b[1;33m(\u001b[0m\u001b[1;34m'camera_cal/*.jpg'\u001b[0m\u001b[1;33m)\u001b[0m\u001b[1;33m\u001b[0m\u001b[1;33m\u001b[0m\u001b[0m\n\u001b[0;32m     15\u001b[0m \u001b[1;32mfor\u001b[0m \u001b[0mfname\u001b[0m \u001b[1;32min\u001b[0m \u001b[0mimages\u001b[0m\u001b[1;33m:\u001b[0m\u001b[1;33m\u001b[0m\u001b[1;33m\u001b[0m\u001b[0m\n",
      "\u001b[1;31mTypeError\u001b[0m: cannot unpack non-iterable NoneType object"
     ]
    }
   ],
   "source": [
    "def undistort_camera_img(img,mtx,dist,show_distortion=False, save_undistort_image=False):   \n",
    "    undist_img = cv2.undistort(img, mtx, dist, None, mtx)       \n",
    "    # save undisort image\n",
    "    if save_undistort_image:\n",
    "        dist_name = os.path.basename(fname)\n",
    "        undist_fname = 'output_images/'+ 'undist_' + os.path.splitext(dist_name)[0] + '.jpg'\n",
    "        cv2.imwrite(undist_fname,undist_img)\n",
    "    # show distortion comparison\n",
    "    if show_distortion:\n",
    "        plot_images(img,undist_img,title1='Camera Image',title2='Undisorted Camera Image')\n",
    "    return undist_img\n",
    "\n",
    "ret, mtx, dist, rvecs, tvecs = load_camera_calibration()\n",
    "images = glob.glob('camera_cal/*.jpg')\n",
    "for fname in images:\n",
    "#     print(fname)\n",
    "    # Read in an image\n",
    "    img = mpimg.imread(fname)\n",
    "    undistort_camera_img(img,mtx,dist,show_distortion=False, save_undistort_image=False)"
   ]
  },
  {
   "cell_type": "code",
   "execution_count": null,
   "id": "71e583d9",
   "metadata": {},
   "outputs": [],
   "source": []
  },
  {
   "cell_type": "code",
   "execution_count": null,
   "id": "8b49cb21",
   "metadata": {},
   "outputs": [],
   "source": []
  },
  {
   "cell_type": "code",
   "execution_count": null,
   "id": "b0a17eac",
   "metadata": {},
   "outputs": [],
   "source": []
  },
  {
   "cell_type": "code",
   "execution_count": null,
   "id": "55ec22d2",
   "metadata": {},
   "outputs": [],
   "source": []
  },
  {
   "cell_type": "code",
   "execution_count": null,
   "id": "08307892",
   "metadata": {},
   "outputs": [],
   "source": []
  }
 ],
 "metadata": {
  "kernelspec": {
   "display_name": "Python 3",
   "language": "python",
   "name": "python3"
  },
  "language_info": {
   "codemirror_mode": {
    "name": "ipython",
    "version": 3
   },
   "file_extension": ".py",
   "mimetype": "text/x-python",
   "name": "python",
   "nbconvert_exporter": "python",
   "pygments_lexer": "ipython3",
   "version": "3.9.5"
  }
 },
 "nbformat": 4,
 "nbformat_minor": 5
}
