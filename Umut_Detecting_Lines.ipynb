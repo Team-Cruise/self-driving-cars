{
 "metadata": {
  "language_info": {
   "codemirror_mode": {
    "name": "ipython",
    "version": 3
   },
   "file_extension": ".py",
   "mimetype": "text/x-python",
   "name": "python",
   "nbconvert_exporter": "python",
   "pygments_lexer": "ipython3",
   "version": "3.8.5"
  },
  "orig_nbformat": 4,
  "kernelspec": {
   "name": "python3",
   "display_name": "Python 3.8.5 64-bit ('my-project-env': virtualenvwrapper)"
  },
  "interpreter": {
   "hash": "737e9587d30d88c29f1321911dcbdbc8762e4df40f7563cdfd1b93bad311ab30"
  }
 },
 "nbformat": 4,
 "nbformat_minor": 2,
 "cells": [
  {
   "cell_type": "code",
   "execution_count": 56,
   "metadata": {},
   "outputs": [],
   "source": [
    "import cv2\n",
    "import matplotlib.pyplot as plt\n",
    "import numpy as np"
   ]
  },
  {
   "cell_type": "code",
   "execution_count": 89,
   "metadata": {},
   "outputs": [],
   "source": [
    "def imshow(img, enlarge = True, color = True):\n",
    "    if enlarge:\n",
    "        plt.figure(figsize=(15,10));\n",
    "    if not color:\n",
    "        plt.imshow(img, cmap='gray');\n",
    "    else:\n",
    "        # plt.imshow(img[:,:,::-1]);\n",
    "        plt.imshow(img);\n",
    "    plt.show()"
   ]
  },
  {
   "cell_type": "code",
   "execution_count": 91,
   "metadata": {},
   "outputs": [],
   "source": [
    "img = cv2.imread(\"Test/test_images/solidWhiteCurve.jpg\")\n",
    "img = img.copy()\n",
    "img = cv2.cvtColor(img,cv2.COLOR_BGR2RGB)\n",
    "gray_img = cv2.cvtColor(img,cv2.COLOR_RGB2GRAY)\n"
   ]
  },
  {
   "cell_type": "code",
   "execution_count": null,
   "metadata": {},
   "outputs": [],
   "source": [
    "points = np.array([[\n",
    "    [100, 550],\n",
    "    [930, 550],\n",
    "    [510, 315],\n",
    "    [440, 315],\n",
    "]])\n"
   ]
  },
  {
   "cell_type": "code",
   "execution_count": 87,
   "metadata": {},
   "outputs": [
    {
     "output_type": "execute_result",
     "data": {
      "text/plain": [
       "-1"
      ]
     },
     "metadata": {},
     "execution_count": 87
    }
   ],
   "source": [
    "blur = cv2.medianBlur(gray_img,21)\n",
    "_,thresh = cv2.threshold(blur,128,255,cv2.THRESH_BINARY)\n",
    "\n",
    "cv2.imshow(\"Image Name\", thresh)\n",
    "cv2.waitKey(0)\n",
    "cv2.destroyAllWindows()\n",
    "cv2.waitKey(1)"
   ]
  },
  {
   "cell_type": "code",
   "execution_count": 39,
   "metadata": {},
   "outputs": [
    {
     "output_type": "execute_result",
     "data": {
      "text/plain": [
       "-1"
      ]
     },
     "metadata": {},
     "execution_count": 39
    }
   ],
   "source": [
    "thr = cv2.adaptiveThreshold(blur, 255, cv2.ADAPTIVE_THRESH_MEAN_C, cv2.THRESH_BINARY, 21, 2)\n",
    "cv2.imshow(\"Image Name\", thr)\n",
    "cv2.waitKey(0)\n",
    "cv2.destroyAllWindows()\n",
    "cv2.waitKey(1)"
   ]
  },
  {
   "cell_type": "code",
   "execution_count": 90,
   "metadata": {},
   "outputs": [
    {
     "output_type": "execute_result",
     "data": {
      "text/plain": [
       "-1"
      ]
     },
     "metadata": {},
     "execution_count": 90
    }
   ],
   "source": [
    "edges = cv2.Canny(thresh, 1, 255, apertureSize=3)\n",
    "cv2.imshow(\"Image Name\", edges)\n",
    "cv2.waitKey(0)\n",
    "cv2.destroyAllWindows()\n",
    "cv2.waitKey(1)"
   ]
  },
  {
   "cell_type": "code",
   "execution_count": null,
   "metadata": {},
   "outputs": [],
   "source": []
  },
  {
   "cell_type": "code",
   "execution_count": 79,
   "metadata": {},
   "outputs": [
    {
     "output_type": "execute_result",
     "data": {
      "text/plain": [
       "array([[[221.       ,   1.7453293]],\n",
       "\n",
       "       [[229.       ,   1.6406095]],\n",
       "\n",
       "       [[237.       ,   1.6231562]],\n",
       "\n",
       "       [[236.       ,   1.727876 ]],\n",
       "\n",
       "       [[209.       ,   1.7627826]],\n",
       "\n",
       "       [[220.       ,   1.7104226]],\n",
       "\n",
       "       [[241.       ,   1.6057029]],\n",
       "\n",
       "       [[225.       ,   1.6755161]]], dtype=float32)"
      ]
     },
     "metadata": {},
     "execution_count": 79
    }
   ],
   "source": [
    "lines = cv2.HoughLines(edges, 1, np.pi / 180, 80)\n",
    "lines[0][0]"
   ]
  },
  {
   "cell_type": "code",
   "execution_count": 76,
   "metadata": {},
   "outputs": [
    {
     "output_type": "error",
     "ename": "error",
     "evalue": "OpenCV(4.5.2) :-1: error: (-5:Bad argument) in function 'line'\n> Overload resolution failed:\n>  - Can't parse 'pt1'. Input argument doesn't provide sequence protocol\n>  - Can't parse 'pt1'. Input argument doesn't provide sequence protocol\n",
     "traceback": [
      "\u001b[0;31m---------------------------------------------------------------------------\u001b[0m",
      "\u001b[0;31merror\u001b[0m                                     Traceback (most recent call last)",
      "\u001b[0;32m<ipython-input-76-598b7f68ba46>\u001b[0m in \u001b[0;36m<module>\u001b[0;34m\u001b[0m\n\u001b[1;32m      1\u001b[0m \u001b[0;32mfor\u001b[0m \u001b[0mline\u001b[0m \u001b[0;32min\u001b[0m \u001b[0mlines\u001b[0m\u001b[0;34m:\u001b[0m\u001b[0;34m\u001b[0m\u001b[0;34m\u001b[0m\u001b[0m\n\u001b[0;32m----> 2\u001b[0;31m     \u001b[0mcv2\u001b[0m\u001b[0;34m.\u001b[0m\u001b[0mline\u001b[0m\u001b[0;34m(\u001b[0m\u001b[0mimg\u001b[0m\u001b[0;34m,\u001b[0m\u001b[0mint\u001b[0m\u001b[0;34m(\u001b[0m\u001b[0mline\u001b[0m\u001b[0;34m[\u001b[0m\u001b[0;36m0\u001b[0m\u001b[0;34m]\u001b[0m\u001b[0;34m[\u001b[0m\u001b[0;36m0\u001b[0m\u001b[0;34m]\u001b[0m\u001b[0;34m)\u001b[0m\u001b[0;34m,\u001b[0m\u001b[0mint\u001b[0m\u001b[0;34m(\u001b[0m\u001b[0mline\u001b[0m\u001b[0;34m[\u001b[0m\u001b[0;36m0\u001b[0m\u001b[0;34m]\u001b[0m\u001b[0;34m[\u001b[0m\u001b[0;36m1\u001b[0m\u001b[0;34m]\u001b[0m\u001b[0;34m)\u001b[0m \u001b[0;34m,\u001b[0m\u001b[0;34m(\u001b[0m\u001b[0;36m0\u001b[0m\u001b[0;34m,\u001b[0m\u001b[0;36m255\u001b[0m\u001b[0;34m,\u001b[0m\u001b[0;36m0\u001b[0m\u001b[0;34m)\u001b[0m\u001b[0;34m,\u001b[0m\u001b[0;36m5\u001b[0m\u001b[0;34m)\u001b[0m\u001b[0;34m\u001b[0m\u001b[0;34m\u001b[0m\u001b[0m\n\u001b[0m",
      "\u001b[0;31merror\u001b[0m: OpenCV(4.5.2) :-1: error: (-5:Bad argument) in function 'line'\n> Overload resolution failed:\n>  - Can't parse 'pt1'. Input argument doesn't provide sequence protocol\n>  - Can't parse 'pt1'. Input argument doesn't provide sequence protocol\n"
     ]
    }
   ],
   "source": [
    "for line in lines:\n",
    "    cv2.line(img,int(line[0][0]),int(line[0][1]) ,(0,255,0),5)\n"
   ]
  },
  {
   "cell_type": "code",
   "execution_count": 84,
   "metadata": {},
   "outputs": [],
   "source": [
    "for line in lines:\n",
    "    for r, theta in line:\n",
    "        # Stores the value of cos(theta) in a\n",
    "        a = np.cos(theta)\n",
    "\n",
    "        # Stores the value of sin(theta) in b\n",
    "        b = np.sin(theta)\n",
    "\n",
    "        # x0 stores the value rcos(theta)\n",
    "        x0 = a * r\n",
    "\n",
    "        # y0 stores the value rsin(theta)\n",
    "        y0 = b * r\n",
    "\n",
    "        # x1 stores the rounded off value of (rcos(theta)-1000sin(theta))\n",
    "        x1 = int(x0 + 1000 * (-b))\n",
    "\n",
    "        # y1 stores the rounded off value of (rsin(theta)+1000cos(theta))\n",
    "        y1 = int(y0 + 1000 * (a))\n",
    "\n",
    "        # x2 stores the rounded off value of (rcos(theta)+1000sin(theta))\n",
    "        x2 = int(x0 - 1000 * (-b))\n",
    "\n",
    "        # y2 stores the rounded off value of (rsin(theta)-1000cos(theta))\n",
    "        y2 = int(y0 - 1000 * (a))\n",
    "\n",
    "        # cv2.line draws a line in img from the point(x1,y1) to (x2,y2).\n",
    "        # (0,0,255) denotes the colour of the line to be\n",
    "        # drawn. In this case, it is red.\n",
    "        cv2.line(img, (x1, y1), (x2, y2), (0, 0, 255), 2)"
   ]
  },
  {
   "cell_type": "code",
   "execution_count": 85,
   "metadata": {},
   "outputs": [
    {
     "output_type": "execute_result",
     "data": {
      "text/plain": [
       "-1"
      ]
     },
     "metadata": {},
     "execution_count": 85
    }
   ],
   "source": [
    "cv2.imshow(\"Image Name\", img)\n",
    "cv2.waitKey(0)\n",
    "cv2.destroyAllWindows()\n",
    "cv2.waitKey(1)"
   ]
  },
  {
   "cell_type": "code",
   "execution_count": null,
   "metadata": {},
   "outputs": [],
   "source": []
  }
 ]
}